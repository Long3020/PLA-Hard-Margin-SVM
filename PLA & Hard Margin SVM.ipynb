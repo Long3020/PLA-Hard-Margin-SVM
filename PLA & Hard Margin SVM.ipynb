{
 "cells": [
  {
   "cell_type": "code",
   "execution_count": 1,
   "id": "dcac3e81-ec43-4ec2-9fef-290488e5f899",
   "metadata": {},
   "outputs": [],
   "source": [
    "import numpy as np\n",
    "import matplotlib.pyplot as plt\n",
    "from scipy.spatial.distance import cdist\n",
    "from __future__ import print_function"
   ]
  },
  {
   "cell_type": "code",
   "execution_count": 2,
   "id": "7feb9833-1ea9-4664-99f6-a0a473351503",
   "metadata": {},
   "outputs": [
    {
     "name": "stdout",
     "output_type": "stream",
     "text": [
      "[-0.41675785 -0.05626683 -2.1361961 ]\n"
     ]
    }
   ],
   "source": [
    "np.random.seed(2)\n",
    "print(np.random.randn(3))"
   ]
  },
  {
   "cell_type": "code",
   "execution_count": 3,
   "id": "db9bd682-3338-4daf-8864-797c3dd1c93c",
   "metadata": {},
   "outputs": [],
   "source": [
    "means = [[2, 2], [4, 2]]\n",
    "cov = [[0.3, 0.2], [0.2, 0.3]]\n",
    "N = 10"
   ]
  },
  {
   "cell_type": "code",
   "execution_count": 4,
   "id": "5e89a756-d62b-49f6-9839-ed76b0783967",
   "metadata": {},
   "outputs": [
    {
     "name": "stdout",
     "output_type": "stream",
     "text": [
      "[[1.58088898 2.30842598 2.85920935 2.33119493 0.8446075  2.43842562\n",
      "  2.30235756 1.57972842 2.19183827 2.02084619]\n",
      " [0.77884021 2.53332139 2.38607874 2.57781268 0.86318448 2.67949983\n",
      "  2.29380214 1.24527036 1.79913648 2.13558798]] [[4.57015242 4.26067601 4.91159998 4.13691056 3.42874719 3.86080283\n",
      "  3.20796439 4.42210467 3.79892628 4.0322119 ]\n",
      " [2.41862663 1.97550802 2.27601231 2.01658463 0.33988602 2.02647066\n",
      "  1.43240175 2.42210903 1.65872115 1.19677636]]\n"
     ]
    }
   ],
   "source": [
    "X0 = np.random.multivariate_normal(means[0], cov, N).T\n",
    "X1 = np.random.multivariate_normal(means[1], cov, N).T\n",
    "\n",
    "print(X0, X1)"
   ]
  },
  {
   "cell_type": "code",
   "execution_count": 5,
   "id": "d20b142a-964b-4426-93ad-96af98fecae8",
   "metadata": {},
   "outputs": [
    {
     "name": "stdout",
     "output_type": "stream",
     "text": [
      "[[1.58088898 2.30842598 2.85920935 2.33119493 0.8446075  2.43842562\n",
      "  2.30235756 1.57972842 2.19183827 2.02084619 4.57015242 4.26067601\n",
      "  4.91159998 4.13691056 3.42874719 3.86080283 3.20796439 4.42210467\n",
      "  3.79892628 4.0322119 ]\n",
      " [0.77884021 2.53332139 2.38607874 2.57781268 0.86318448 2.67949983\n",
      "  2.29380214 1.24527036 1.79913648 2.13558798 2.41862663 1.97550802\n",
      "  2.27601231 2.01658463 0.33988602 2.02647066 1.43240175 2.42210903\n",
      "  1.65872115 1.19677636]]\n"
     ]
    }
   ],
   "source": [
    "X = np.concatenate((X0, X1), axis = 1)\n",
    "print(X)"
   ]
  },
  {
   "cell_type": "code",
   "execution_count": 6,
   "id": "5f43e2c5-4e7c-4b8e-872c-fa977ff884ac",
   "metadata": {},
   "outputs": [
    {
     "name": "stdout",
     "output_type": "stream",
     "text": [
      "[[ 1.  1.  1.  1.  1.  1.  1.  1.  1.  1. -1. -1. -1. -1. -1. -1. -1. -1.\n",
      "  -1. -1.]]\n"
     ]
    }
   ],
   "source": [
    "y = np.concatenate((np.ones((1, N)), -1*np.ones((1, N))), axis = 1)\n",
    "print(y)"
   ]
  },
  {
   "cell_type": "code",
   "execution_count": 7,
   "id": "5fcc61cf-8c2a-42c7-865c-2ccfc4d5eb08",
   "metadata": {},
   "outputs": [
    {
     "name": "stdout",
     "output_type": "stream",
     "text": [
      "[[1.         1.         1.         1.         1.         1.\n",
      "  1.         1.         1.         1.         1.         1.\n",
      "  1.         1.         1.         1.         1.         1.\n",
      "  1.         1.        ]\n",
      " [1.58088898 2.30842598 2.85920935 2.33119493 0.8446075  2.43842562\n",
      "  2.30235756 1.57972842 2.19183827 2.02084619 4.57015242 4.26067601\n",
      "  4.91159998 4.13691056 3.42874719 3.86080283 3.20796439 4.42210467\n",
      "  3.79892628 4.0322119 ]\n",
      " [0.77884021 2.53332139 2.38607874 2.57781268 0.86318448 2.67949983\n",
      "  2.29380214 1.24527036 1.79913648 2.13558798 2.41862663 1.97550802\n",
      "  2.27601231 2.01658463 0.33988602 2.02647066 1.43240175 2.42210903\n",
      "  1.65872115 1.19677636]]\n"
     ]
    }
   ],
   "source": [
    "X = np.concatenate((np.ones((1, 2*N)), X), axis = 0)\n",
    "print(X)"
   ]
  },
  {
   "cell_type": "code",
   "execution_count": 8,
   "id": "e9c911f1-8238-411a-853f-c56ae93d98fc",
   "metadata": {},
   "outputs": [],
   "source": [
    "def h(w, x):\n",
    "    return np.sign(np.dot(w.T, x))"
   ]
  },
  {
   "cell_type": "code",
   "execution_count": 9,
   "id": "a454e821-4396-4cdf-aace-f73c802f6bc9",
   "metadata": {},
   "outputs": [],
   "source": [
    "def has_converged(X, y, w):\n",
    "    return np.array_equal(h(w, X), y)"
   ]
  },
  {
   "cell_type": "code",
   "execution_count": 10,
   "id": "7475f001-7750-4ace-a397-55747be4e932",
   "metadata": {},
   "outputs": [],
   "source": [
    "def perceptron(X, y, w_init):\n",
    "    w = [w_init]\n",
    "    d = X.shape[0]\n",
    "    N = X.shape[1]\n",
    "    mis_points = []\n",
    "    while True:\n",
    "        mix_id = np.random.permutation(N)\n",
    "        for i in range(N):\n",
    "            xi = X[:, mix_id[i]].reshape(d, 1)\n",
    "            yi = y[0, mix_id[i]]\n",
    "            if h(w[-1], xi)[0] != yi:\n",
    "                mis_points.append(mix_id[i])\n",
    "                w_new = w[-1] + xi*yi\n",
    "                w.append(w_new)\n",
    "        if has_converged(X, y, w[-1]):\n",
    "            break\n",
    "    return (w, mis_points)"
   ]
  },
  {
   "cell_type": "code",
   "execution_count": 14,
   "id": "67e28e86-9b46-4981-8e21-92b463567a79",
   "metadata": {},
   "outputs": [
    {
     "name": "stdout",
     "output_type": "stream",
     "text": [
      "([array([[ 0.57014127],\n",
      "       [-1.59014501],\n",
      "       [-0.06352438]]), array([[1.57014127],\n",
      "       [0.71221255],\n",
      "       [2.23027776]]), array([[ 0.57014127],\n",
      "       [-2.71653464],\n",
      "       [ 1.89039174]]), array([[ 1.57014127],\n",
      "       [-1.87192714],\n",
      "       [ 2.75357622]])], [np.int32(6), np.int32(14), np.int32(4)])\n"
     ]
    }
   ],
   "source": [
    "d = X.shape[0]\n",
    "w_init = np.random.randn(d, 1)\n",
    "(w, m) = perceptron(X, y, w_init)\n",
    "\n",
    "print((w, m))"
   ]
  },
  {
   "cell_type": "code",
   "execution_count": 18,
   "id": "95e78a06-3fb2-417d-affb-175595084cf2",
   "metadata": {},
   "outputs": [
    {
     "name": "stdout",
     "output_type": "stream",
     "text": [
      "[[1.         1.58088898 0.77884021]\n",
      " [1.         2.30842598 2.53332139]\n",
      " [1.         2.85920935 2.38607874]\n",
      " [1.         2.33119493 2.57781268]\n",
      " [1.         0.8446075  0.86318448]\n",
      " [1.         2.43842562 2.67949983]\n",
      " [1.         2.30235756 2.29380214]\n",
      " [1.         1.57972842 1.24527036]\n",
      " [1.         2.19183827 1.79913648]\n",
      " [1.         2.02084619 2.13558798]\n",
      " [1.         4.57015242 2.41862663]\n",
      " [1.         4.26067601 1.97550802]\n",
      " [1.         4.91159998 2.27601231]\n",
      " [1.         4.13691056 2.01658463]\n",
      " [1.         3.42874719 0.33988602]\n",
      " [1.         3.86080283 2.02647066]\n",
      " [1.         3.20796439 1.43240175]\n",
      " [1.         4.42210467 2.42210903]\n",
      " [1.         3.79892628 1.65872115]\n",
      " [1.         4.0322119  1.19677636]] [ 1.  1.  1.  1.  1.  1.  1.  1.  1.  1. -1. -1. -1. -1. -1. -1. -1. -1.\n",
      " -1. -1.]\n",
      "w =  [[ 4.44089210e-16 -1.80543473e+00  1.43595575e+00]]\n",
      "b =  [2.73550963]\n"
     ]
    }
   ],
   "source": [
    "from sklearn.svm import SVC\n",
    "\n",
    "y1 = y.reshape((2*N,))\n",
    "X1 = X.T # each sample is one row\n",
    "clf = SVC(kernel = 'linear', C = 1e5) # just a big number \n",
    "\n",
    "print(X1, y1)\n",
    "\n",
    "clf.fit(X1, y1) \n",
    "\n",
    "w = clf.coef_\n",
    "b = clf.intercept_\n",
    "print('w = ', w)\n",
    "print('b = ', b)"
   ]
  },
  {
   "cell_type": "code",
   "execution_count": 13,
   "id": "c1c96146-d83a-4290-a925-7c78ff4a644b",
   "metadata": {},
   "outputs": [
    {
     "data": {
      "image/png": "[encoded data removed]",
      "text/plain": [
       "<Figure size 800x600 with 1 Axes>"
      ]
     },
     "metadata": {},
     "output_type": "display_data"
    }
   ],
   "source": [
    "# 2D Visualization\n",
    "plt.figure(figsize=(8, 6))\n",
    "plt.scatter(X[1, :N], X[2, :N], color='red', label=\"Class +1\")\n",
    "plt.scatter(X[1, N:], X[2, N:], color='blue', label=\"Class -1\")\n",
    "\n",
    "# Generate decision boundary in 2D\n",
    "x1_range = np.linspace(min(X[1]), max(X[1]), 100)\n",
    "x2_boundary = (-w[0][1] / w[0][2]) * x1_range - (b / w[0][2])\n",
    "\n",
    "# Plot decision boundary\n",
    "plt.plot(x1_range, x2_boundary, 'k--', label=\"Decision Boundary f(x) = 0\")\n",
    "\n",
    "# Labels and legend\n",
    "plt.xlabel(\"x1\")\n",
    "plt.ylabel(\"x2\")\n",
    "plt.title(\"2D Data Points and Decision Boundary\")\n",
    "plt.legend()\n",
    "plt.grid()\n",
    "plt.show()"
   ]
  }
 ],
 "metadata": {
  "kernelspec": {
   "display_name": "Python 3 (ipykernel)",
   "language": "python",
   "name": "python3"
  },
  "language_info": {
   "codemirror_mode": {
    "name": "ipython",
    "version": 3
   },
   "file_extension": ".py",
   "mimetype": "text/x-python",
   "name": "python",
   "nbconvert_exporter": "python",
   "pygments_lexer": "ipython3",
   "version": "3.11.9"
  }
 },
 "nbformat": 4,
 "nbformat_minor": 5
}
